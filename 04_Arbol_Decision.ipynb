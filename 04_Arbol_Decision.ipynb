{
  "cells": [
    {
      "cell_type": "markdown",
      "id": "655665e1",
      "metadata": {
        "id": "655665e1"
      },
      "source": [
        "# Árbol de Decisión - Predicción de ImpactPlayerScore en CS:GO\n",
        "Este notebook sigue la metodología CRISP-DM hasta la fase 4 para evaluar el modelo de regresión: **Árbol de Decisión**."
      ]
    },
    {
      "cell_type": "code",
      "execution_count": null,
      "id": "4c4b3238",
      "metadata": {
        "id": "4c4b3238"
      },
      "outputs": [],
      "source": [
        "# Cargar librerías\n",
        "import pandas as pd\n",
        "import numpy as np\n",
        "import seaborn as sns\n",
        "import matplotlib.pyplot as plt\n",
        "from google.colab import files\n",
        "from sklearn.tree import DecisionTreeRegressor\n"
      ]
    },
    {
      "cell_type": "code",
      "execution_count": null,
      "id": "c642987f",
      "metadata": {
        "id": "c642987f",
        "colab": {
          "base_uri": "https://localhost:8080/"
        },
        "outputId": "198b6b35-94df-4377-dedd-bf297ec8769b"
      },
      "outputs": [
        {
          "output_type": "stream",
          "name": "stderr",
          "text": [
            "<ipython-input-2-a661481f7ff5>:4: DtypeWarning: Columns (6,7) have mixed types. Specify dtype option on import or set low_memory=False.\n",
            "  df = pd.read_csv(url, sep=';')\n"
          ]
        }
      ],
      "source": [
        "#Cargar datos y crear variables\n",
        "\n",
        "url = \"https://raw.githubusercontent.com/Seba-RiveraC/Crisp_DM_CSGO/refs/heads/master/Anexo%20ET_demo_round_traces_2022%20(1).csv\"\n",
        "df = pd.read_csv(url, sep=';')\n",
        "# Crear variables necesarias\n",
        "df['ImpactPlayerScore'] = df['RoundKills'] + 0.5 * df['RoundAssists'] + df['RoundHeadshots']\n",
        "df['KAST'] = ((df['RoundKills'] > 0) | (df['RoundAssists'] > 0)).astype(int)\n",
        "df = df.sample(frac=0.7, random_state=42)"
      ]
    },
    {
      "cell_type": "code",
      "execution_count": null,
      "id": "85e2e2ed",
      "metadata": {
        "id": "85e2e2ed",
        "colab": {
          "base_uri": "https://localhost:8080/"
        },
        "outputId": "1ca2c1fc-1838-4229-8997-b4c274adb594"
      },
      "outputs": [
        {
          "output_type": "stream",
          "name": "stderr",
          "text": [
            "<ipython-input-3-6e3455b4a4bb>:3: FutureWarning: DataFrame.applymap has been deprecated. Use DataFrame.map instead.\n",
            "  df_model = df_model.applymap(lambda x: str(x) if isinstance(x, str) or isinstance(x, bool) else x)\n",
            "<ipython-input-3-6e3455b4a4bb>:4: FutureWarning: Downcasting behavior in `replace` is deprecated and will be removed in a future version. To retain the old behavior, explicitly call `result.infer_objects(copy=False)`. To opt-in to the future behavior, set `pd.set_option('future.no_silent_downcasting', True)`\n",
            "  df_model = df_model.replace({'True': True, 'False': False, 'TRUE': True, 'FALSE': False})\n"
          ]
        }
      ],
      "source": [
        "# Fase 3 - Preparación de datos y limpieza\n",
        "df_model = df.copy()\n",
        "df_model = df_model.applymap(lambda x: str(x) if isinstance(x, str) or isinstance(x, bool) else x)\n",
        "df_model = df_model.replace({'True': True, 'False': False, 'TRUE': True, 'FALSE': False})\n",
        "for col in df_model.columns:\n",
        "    if df_model[col].dtype == bool:\n",
        "        df_model[col] = df_model[col].astype(int)\n",
        "categorical_cols = df_model.select_dtypes(include='object').columns.tolist()\n",
        "df_model = pd.get_dummies(df_model, columns=categorical_cols, drop_first=True)"
      ]
    },
    {
      "cell_type": "code",
      "execution_count": null,
      "id": "49d19ad4",
      "metadata": {
        "id": "49d19ad4",
        "colab": {
          "base_uri": "https://localhost:8080/",
          "height": 524
        },
        "outputId": "1de73aaa-b550-447d-e8d9-4b68e33a605c"
      },
      "outputs": [
        {
          "output_type": "stream",
          "name": "stdout",
          "text": [
            "\n",
            "Modelo: Árbol de Decisión (sin escalado)\n",
            "MAE: 0.6995235689020429\n",
            "MSE: 1.6980978849346713\n",
            "RMSE: 1.303110849058771\n",
            "R²: 0.06408892280961553\n"
          ]
        },
        {
          "output_type": "display_data",
          "data": {
            "text/plain": [
              "<Figure size 800x400 with 1 Axes>"
            ],
            "image/png": "[encoded data removed]"
          },
          "metadata": {}
        }
      ],
      "source": [
        "# Fase 4 - Modelado: Árbol de Decisión\n",
        "import pandas as pd\n",
        "import numpy as np\n",
        "from sklearn.model_selection import train_test_split\n",
        "from sklearn.tree import DecisionTreeRegressor\n",
        "from sklearn.metrics import mean_absolute_error, mean_squared_error, r2_score\n",
        "import matplotlib.pyplot as plt\n",
        "\n",
        "# Copiar datos\n",
        "df_model = df.copy()\n",
        "\n",
        "\n",
        "def convertir_a_float(valor):\n",
        "    if isinstance(valor, str):\n",
        "        valor = valor.replace('.', '').replace(',', '.')\n",
        "        try:\n",
        "            return float(valor)\n",
        "        except:\n",
        "            return np.nan\n",
        "    return valor\n",
        "\n",
        "# Limpiar columnas numéricas\n",
        "columnas = ['TimeAlive', 'TravelledDistance', 'KAST', 'ImpactPlayerScore']\n",
        "for col in columnas:\n",
        "    df_model[col] = df_model[col].apply(convertir_a_float)\n",
        "\n",
        "# Eliminar nulos\n",
        "df_model.dropna(subset=columnas, inplace=True)\n",
        "\n",
        "# Variables predictoras y objetivo\n",
        "X = df_model[['KAST', 'TimeAlive', 'TravelledDistance']]\n",
        "y = df_model['ImpactPlayerScore']\n",
        "\n",
        "# División del conjunto\n",
        "X_train, X_test, y_train, y_test = train_test_split(X, y, random_state=42)\n",
        "\n",
        "# Modelo Árbol de Decisión\n",
        "modelo_tree = DecisionTreeRegressor(random_state=42)\n",
        "modelo_tree.fit(X_train, y_train)\n",
        "\n",
        "# Predicciones\n",
        "y_pred_tree = modelo_tree.predict(X_test)\n",
        "\n",
        "# Evaluación\n",
        "print(\"\\nModelo: Árbol de Decisión\")\n",
        "print(\"MAE:\", mean_absolute_error(y_test, y_pred_tree))\n",
        "print(\"MSE:\", mean_squared_error(y_test, y_pred_tree))\n",
        "print(\"RMSE:\", np.sqrt(mean_squared_error(y_test, y_pred_tree)))\n",
        "print(\"R²:\", r2_score(y_test, y_pred_tree))\n",
        "\n",
        "# Importancia de variables\n",
        "importancia = modelo_tree.feature_importances_\n",
        "variables = X.columns\n",
        "\n",
        "plt.figure(figsize=(8, 4))\n",
        "plt.barh(variables, importancia)\n",
        "plt.xlabel(\"Importancia\")\n",
        "plt.title(\"Importancia de Variables - Árbol de Decisión\")\n",
        "plt.show()\n",
        "\n",
        "\n"
      ]
    },
    {
      "cell_type": "markdown",
      "source": [
        "Segun se ha visto en los analisis, los resultados de arbol de decision han sido los mas bajos por lo que quedaria descartado de usarse en fases posteriores del crisp-dm"
      ],
      "metadata": {
        "id": "onye45DiOxF6"
      },
      "id": "onye45DiOxF6"
    }
  ],
  "metadata": {
    "colab": {
      "provenance": []
    },
    "language_info": {
      "name": "python"
    },
    "kernelspec": {
      "name": "python3",
      "display_name": "Python 3"
    }
  },
  "nbformat": 4,
  "nbformat_minor": 5
}