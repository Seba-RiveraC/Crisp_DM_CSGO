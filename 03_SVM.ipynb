{
  "cells": [
    {
      "cell_type": "markdown",
      "id": "ae3fcaa4",
      "metadata": {
        "id": "ae3fcaa4"
      },
      "source": [
        "# Support Vector Machine - Predicción de ImpactPlayerScore en CS:GO\n",
        "Este notebook sigue la metodología CRISP-DM hasta la fase 4 para evaluar el modelo de regresión: **Support Vector Machine**."
      ]
    },
    {
      "cell_type": "code",
      "execution_count": null,
      "id": "d42cf832",
      "metadata": {
        "id": "d42cf832"
      },
      "outputs": [],
      "source": [
        "# Cargar librerías\n",
        "import pandas as pd\n",
        "import numpy as np\n",
        "import seaborn as sns\n",
        "import matplotlib.pyplot as plt\n",
        "from google.colab import files\n",
        "from sklearn.svm import SVR"
      ]
    },
    {
      "cell_type": "code",
      "execution_count": null,
      "id": "de3768c7",
      "metadata": {
        "id": "de3768c7",
        "colab": {
          "base_uri": "https://localhost:8080/"
        },
        "outputId": "f40b40c3-ce05-4084-ce23-7c6e55c378bc"
      },
      "outputs": [
        {
          "output_type": "stream",
          "name": "stderr",
          "text": [
            "<ipython-input-2-453c2a655bc6>:4: DtypeWarning: Columns (6,7) have mixed types. Specify dtype option on import or set low_memory=False.\n",
            "  df = pd.read_csv(url, sep=';')\n"
          ]
        }
      ],
      "source": [
        "#Cargar datos y crear variables\n",
        "\n",
        "url = \"https://raw.githubusercontent.com/Seba-RiveraC/Crisp_DM_CSGO/refs/heads/master/Anexo%20ET_demo_round_traces_2022%20(1).csv\"\n",
        "df = pd.read_csv(url, sep=';')\n",
        "# Crear variables necesarias\n",
        "df['ImpactPlayerScore'] = df['RoundKills'] + 0.5 * df['RoundAssists'] + df['RoundHeadshots']\n",
        "df['KAST'] = ((df['RoundKills'] > 0) | (df['RoundAssists'] > 0)).astype(int)\n",
        "df = df.sample(frac=0.5, random_state=42)"
      ]
    },
    {
      "cell_type": "code",
      "execution_count": null,
      "id": "e9e5293f",
      "metadata": {
        "id": "e9e5293f",
        "colab": {
          "base_uri": "https://localhost:8080/"
        },
        "outputId": "e64cb2a6-274d-490e-c360-b1fab590043a"
      },
      "outputs": [
        {
          "output_type": "stream",
          "name": "stderr",
          "text": [
            "<ipython-input-3-6e3455b4a4bb>:3: FutureWarning: DataFrame.applymap has been deprecated. Use DataFrame.map instead.\n",
            "  df_model = df_model.applymap(lambda x: str(x) if isinstance(x, str) or isinstance(x, bool) else x)\n",
            "<ipython-input-3-6e3455b4a4bb>:4: FutureWarning: Downcasting behavior in `replace` is deprecated and will be removed in a future version. To retain the old behavior, explicitly call `result.infer_objects(copy=False)`. To opt-in to the future behavior, set `pd.set_option('future.no_silent_downcasting', True)`\n",
            "  df_model = df_model.replace({'True': True, 'False': False, 'TRUE': True, 'FALSE': False})\n"
          ]
        }
      ],
      "source": [
        "# Fase 3 - Preparación de datos y limpieza\n",
        "df_model = df.copy()\n",
        "df_model = df_model.applymap(lambda x: str(x) if isinstance(x, str) or isinstance(x, bool) else x)\n",
        "df_model = df_model.replace({'True': True, 'False': False, 'TRUE': True, 'FALSE': False})\n",
        "for col in df_model.columns:\n",
        "    if df_model[col].dtype == bool:\n",
        "        df_model[col] = df_model[col].astype(int)\n",
        "categorical_cols = df_model.select_dtypes(include='object').columns.tolist()\n",
        "df_model = pd.get_dummies(df_model, columns=categorical_cols, drop_first=True)"
      ]
    },
    {
      "cell_type": "code",
      "execution_count": null,
      "id": "65118f84",
      "metadata": {
        "id": "65118f84",
        "colab": {
          "base_uri": "https://localhost:8080/"
        },
        "outputId": "ae061847-9e2e-47a3-91f2-8fc959ec743f"
      },
      "outputs": [
        {
          "output_type": "stream",
          "name": "stdout",
          "text": [
            "\n",
            "Modelo: SVM (con escalado)\n",
            "MAE: 0.5133208205863873\n",
            "MSE: 0.8485317531462443\n",
            "RMSE: 0.9211578329180317\n",
            "R²: 0.5355842745726468\n"
          ]
        }
      ],
      "source": [
        "import pandas as pd\n",
        "from sklearn.model_selection import train_test_split\n",
        "from sklearn.svm import SVR\n",
        "from sklearn.preprocessing import StandardScaler\n",
        "from sklearn.metrics import mean_absolute_error, mean_squared_error, r2_score\n",
        "import numpy as np\n",
        "\n",
        "# Cargar y copiar datos\n",
        "df_model = df.copy()\n",
        "\n",
        "def convertir_a_float(valor):\n",
        "    if isinstance(valor, str):\n",
        "        valor = valor.replace('.', '').replace(',', '.')\n",
        "        try:\n",
        "            return float(valor)\n",
        "        except:\n",
        "            return np.nan\n",
        "    return valor\n",
        "\n",
        "# Aplicar limpieza\n",
        "columnas = ['TimeAlive', 'TravelledDistance', 'KAST', 'ImpactPlayerScore']\n",
        "for col in columnas:\n",
        "    df_model[col] = df_model[col].apply(convertir_a_float)\n",
        "\n",
        "# Eliminar nulos\n",
        "df_model.dropna(subset=columnas, inplace=True)\n",
        "\n",
        "# Variables predictoras y objetivo\n",
        "X = df_model[['KAST', 'TimeAlive', 'TravelledDistance']]\n",
        "y = df_model['ImpactPlayerScore']\n",
        "\n",
        "# Escalado\n",
        "scaler = StandardScaler()\n",
        "X_scaled = scaler.fit_transform(X)\n",
        "\n",
        "# División de datos\n",
        "X_train, X_test, y_train, y_test = train_test_split(X_scaled, y, random_state=42)\n",
        "\n",
        "# Modelo SVM con kernel RBF\n",
        "modelo_svm = SVR(kernel='rbf')\n",
        "modelo_svm.fit(X_train, y_train)\n",
        "y_pred = modelo_svm.predict(X_test)\n",
        "\n",
        "# Evaluación\n",
        "print(\"\\nModelo: SVM (con escalado)\")\n",
        "print(\"MAE:\", mean_absolute_error(y_test, y_pred))\n",
        "print(\"MSE:\", mean_squared_error(y_test, y_pred))\n",
        "print(\"RMSE:\", np.sqrt(mean_squared_error(y_test, y_pred)))\n",
        "print(\"R²:\", r2_score(y_test, y_pred))\n",
        "\n"
      ]
    },
    {
      "cell_type": "markdown",
      "source": [
        "## Analisis\n",
        "Al ejecutar el svm sin escalados los resultados eran muy difusos, pero al aplicar escalado el modelo rinde muy bien, con bajos margenes de error y con r2 alto, al punto de ser el modelo que mejor funciona de los 5.\n",
        "En parte concluyendo hemos decidido usar el modelo de regresion de SVM para los futuros avances en la puesta en marcha del proyecto para las siguientes entregas"
      ],
      "metadata": {
        "id": "iAAym_1THROA"
      },
      "id": "iAAym_1THROA"
    }
  ],
  "metadata": {
    "colab": {
      "provenance": []
    },
    "language_info": {
      "name": "python"
    },
    "kernelspec": {
      "name": "python3",
      "display_name": "Python 3"
    }
  },
  "nbformat": 4,
  "nbformat_minor": 5
}