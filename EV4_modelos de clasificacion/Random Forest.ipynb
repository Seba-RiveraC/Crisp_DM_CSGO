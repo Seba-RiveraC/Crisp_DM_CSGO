{
  "cells": [
    {
      "cell_type": "markdown",
      "id": "49564df5",
      "metadata": {
        "id": "49564df5"
      },
      "source": [
        "# Modelo: Random forest - HighImpactPlayer -- clasificacion"
      ]
    },
    {
      "cell_type": "code",
      "execution_count": 2,
      "id": "60b97818",
      "metadata": {
        "colab": {
          "base_uri": "https://localhost:8080/"
        },
        "id": "60b97818",
        "outputId": "fcba4572-6a5d-4a70-90f1-f160207e4f8f"
      },
      "outputs": [
        {
          "name": "stderr",
          "output_type": "stream",
          "text": [
            "/tmp/ipython-input-2-3249833126.py:11: DtypeWarning: Columns (6,7) have mixed types. Specify dtype option on import or set low_memory=False.\n",
            "  df = pd.read_csv(url, sep=';')\n"
          ]
        },
        {
          "name": "stdout",
          "output_type": "stream",
          "text": [
            " Modelo: Random Forest\n",
            "Accuracy  (exactitud global):     0.752\n",
            "Precision (de los positivos predichos, cuántos son correctos): 0.580\n",
            "Recall    (de los positivos reales, cuántos fueron detectados): 0.623\n",
            " F1 Score  (balance entre precision y recall): 0.601\n",
            "\n",
            " Matriz de confusión:\n",
            "[[5029 1205]\n",
            " [1007 1665]]\n"
          ]
        }
      ],
      "source": [
        "\n",
        "import pandas as pd\n",
        "import numpy as np\n",
        "from sklearn.model_selection import train_test_split\n",
        "from sklearn.preprocessing import StandardScaler\n",
        "from sklearn.metrics import accuracy_score, precision_score, recall_score, f1_score, confusion_matrix\n",
        "from sklearn.ensemble import RandomForestClassifier\n",
        "import matplotlib.pyplot as plt\n",
        "\n",
        "# Cargar datos\n",
        "url = \"https://raw.githubusercontent.com/Seba-RiveraC/Crisp_DM_CSGO/master/Anexo%20ET_demo_round_traces_2022%20(1).csv\"\n",
        "df = pd.read_csv(url, sep=';')\n",
        "\n",
        "# Crear variables\n",
        "df['ImpactPlayerScore'] = df['RoundKills'] + 0.5 * df['RoundAssists'] + df['RoundHeadshots']\n",
        "df['KAST'] = ((df['RoundKills'] > 0) | (df['RoundAssists'] > 0)).astype(int)\n",
        "df = df.sample(frac=0.45, random_state=42)\n",
        "\n",
        "def convertir_a_float(valor):\n",
        "    if isinstance(valor, str):\n",
        "        valor = valor.replace('.', '').replace(',', '.')\n",
        "        try:\n",
        "            return float(valor)\n",
        "        except:\n",
        "            return np.nan\n",
        "    return valor\n",
        "\n",
        "for col in ['TimeAlive', 'TravelledDistance', 'KAST', 'ImpactPlayerScore']:\n",
        "    df[col] = df[col].apply(convertir_a_float)\n",
        "\n",
        "df.dropna(subset=['TimeAlive', 'TravelledDistance', 'KAST', 'ImpactPlayerScore'], inplace=True)\n",
        "\n",
        "# Variable objetivo binaria\n",
        "umbral = df['ImpactPlayerScore'].quantile(0.75)\n",
        "df['HighImpactPlayer'] = (df['ImpactPlayerScore'] >= umbral).astype(int)\n",
        "\n",
        "# Variables predictoras\n",
        "X = df[['KAST', 'TimeAlive', 'TravelledDistance']]\n",
        "y = df['HighImpactPlayer']\n",
        "\n",
        "# División y escalado\n",
        "X_train, X_test, y_train, y_test = train_test_split(X, y, random_state=42)\n",
        "scaler = StandardScaler()\n",
        "X_train = scaler.fit_transform(X_train)\n",
        "X_test = scaler.transform(X_test)\n",
        "\n",
        "# Modelo\n",
        "model = RandomForestClassifier()\n",
        "model.fit(X_train, y_train)\n",
        "y_pred = model.predict(X_test)\n",
        "\n",
        "accuracy = accuracy_score(y_test, y_pred)\n",
        "precision = precision_score(y_test, y_pred)\n",
        "recall = recall_score(y_test, y_pred)\n",
        "f1 = f1_score(y_test, y_pred)\n",
        "cm = confusion_matrix(y_test, y_pred)\n",
        "\n",
        "# Evaluación\n",
        "print(f\" Modelo: Random Forest\")\n",
        "print(f\"Accuracy  (exactitud global):     {accuracy:.3f}\")\n",
        "print(f\"Precision (de los positivos predichos, cuántos son correctos): {precision:.3f}\")\n",
        "print(f\"Recall    (de los positivos reales, cuántos fueron detectados): {recall:.3f}\")\n",
        "print(f\" F1 Score  (balance entre precision y recall): {f1:.3f}\")\n",
        "print(\"\\n Matriz de confusión:\")\n",
        "print(cm)\n",
        "\n"
      ]
    },
    {
      "cell_type": "markdown",
      "id": "mBY3NA9SgA17",
      "metadata": {
        "id": "mBY3NA9SgA17"
      },
      "source": [
        "# Analisis\n",
        "### A pesar de que los resultados son bastante buenos, nos hemos decantado por usar el modelo svm debido a que tiene un recall muy superior, de 0.9 en comparacion al de random forest\n"
      ]
    }
  ],
  "metadata": {
    "colab": {
      "provenance": []
    },
    "kernelspec": {
      "display_name": "Python 3",
      "name": "python3"
    },
    "language_info": {
      "name": "python"
    }
  },
  "nbformat": 4,
  "nbformat_minor": 5
}
