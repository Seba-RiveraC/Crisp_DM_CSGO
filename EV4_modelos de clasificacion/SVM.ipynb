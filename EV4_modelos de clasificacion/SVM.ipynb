{
  "cells": [
    {
      "cell_type": "markdown",
      "id": "2c4c90e2",
      "metadata": {
        "id": "2c4c90e2"
      },
      "source": [
        "# Modelo: SVM -- highimpactplayer - clasificacion"
      ]
    },
    {
      "cell_type": "code",
      "execution_count": 1,
      "id": "5a253a2b",
      "metadata": {
        "colab": {
          "base_uri": "https://localhost:8080/"
        },
        "id": "5a253a2b",
        "outputId": "0277e0e1-bbb2-4556-c92c-4dfd41b95a2c"
      },
      "outputs": [
        {
          "output_type": "stream",
          "name": "stderr",
          "text": [
            "/tmp/ipython-input-1-1608409514.py:11: DtypeWarning: Columns (6,7) have mixed types. Specify dtype option on import or set low_memory=False.\n",
            "  df = pd.read_csv(url, sep=';')\n"
          ]
        },
        {
          "output_type": "stream",
          "name": "stdout",
          "text": [
            " Modelo: SVM\n",
            "Accuracy  (exactitud global):     0.774\n",
            "Precision (de los positivos predichos, cuántos son correctos): 0.575\n",
            "Recall    (de los positivos reales, cuántos fueron detectados): 0.938\n",
            " F1 Score  (balance entre precision y recall): 0.713\n",
            "\n",
            " Matriz de confusión:\n",
            "[[4385 1849]\n",
            " [ 167 2505]]\n"
          ]
        }
      ],
      "source": [
        "\n",
        "import pandas as pd\n",
        "import numpy as np\n",
        "from sklearn.model_selection import train_test_split\n",
        "from sklearn.preprocessing import StandardScaler\n",
        "from sklearn.metrics import accuracy_score, precision_score, recall_score, f1_score, confusion_matrix\n",
        "from sklearn.svm import SVC\n",
        "import matplotlib.pyplot as plt\n",
        "\n",
        "# Cargar datos\n",
        "url = \"https://raw.githubusercontent.com/Seba-RiveraC/Crisp_DM_CSGO/master/Anexo%20ET_demo_round_traces_2022%20(1).csv\"\n",
        "df = pd.read_csv(url, sep=';')\n",
        "\n",
        "# Crear variables\n",
        "df['ImpactPlayerScore'] = df['RoundKills'] + 0.5 * df['RoundAssists'] + df['RoundHeadshots']\n",
        "df['KAST'] = ((df['RoundKills'] > 0) | (df['RoundAssists'] > 0)).astype(int)\n",
        "df = df.sample(frac=0.45, random_state=42)\n",
        "\n",
        "def convertir_a_float(valor):\n",
        "    if isinstance(valor, str):\n",
        "        valor = valor.replace('.', '').replace(',', '.')\n",
        "        try:\n",
        "            return float(valor)\n",
        "        except:\n",
        "            return np.nan\n",
        "    return valor\n",
        "\n",
        "for col in ['TimeAlive', 'TravelledDistance', 'KAST', 'ImpactPlayerScore']:\n",
        "    df[col] = df[col].apply(convertir_a_float)\n",
        "\n",
        "df.dropna(subset=['TimeAlive', 'TravelledDistance', 'KAST', 'ImpactPlayerScore'], inplace=True)\n",
        "\n",
        "# Variable objetivo binaria\n",
        "umbral = df['ImpactPlayerScore'].quantile(0.75)\n",
        "df['HighImpactPlayer'] = (df['ImpactPlayerScore'] >= umbral).astype(int)\n",
        "\n",
        "# Variables predictoras\n",
        "X = df[['KAST', 'TimeAlive', 'TravelledDistance']]\n",
        "y = df['HighImpactPlayer']\n",
        "\n",
        "# División y escalado\n",
        "X_train, X_test, y_train, y_test = train_test_split(X, y, random_state=42)\n",
        "scaler = StandardScaler()\n",
        "X_train = scaler.fit_transform(X_train)\n",
        "X_test = scaler.transform(X_test)\n",
        "\n",
        "# Modelo\n",
        "model = SVC()\n",
        "model.fit(X_train, y_train)\n",
        "y_pred = model.predict(X_test)\n",
        "\n",
        "accuracy = accuracy_score(y_test, y_pred)\n",
        "precision = precision_score(y_test, y_pred)\n",
        "recall = recall_score(y_test, y_pred)\n",
        "f1 = f1_score(y_test, y_pred)\n",
        "cm = confusion_matrix(y_test, y_pred)\n",
        "\n",
        "# Evaluación\n",
        "print(f\" Modelo: SVM\")\n",
        "print(f\"Accuracy  (exactitud global):     {accuracy:.3f}\")\n",
        "print(f\"Precision (de los positivos predichos, cuántos son correctos): {precision:.3f}\")\n",
        "print(f\"Recall    (de los positivos reales, cuántos fueron detectados): {recall:.3f}\")\n",
        "print(f\" F1 Score  (balance entre precision y recall): {f1:.3f}\")\n",
        "print(\"\\n Matriz de confusión:\")\n",
        "print(cm)\n"
      ]
    },
    {
      "cell_type": "markdown",
      "source": [
        "#Analisis\n",
        "### Al observar los resultados, el modelo svm es el que mayor recall presenta y por mucho, ademas en conjunto a que sus otras medidas son bastante parecidas o ligeramente superiores a las de los demas modelos, este sera el modelo elegido para trabajar los siguientes analisis del dataset y para calcular si un jugador es de alto impacto o no lo es."
      ],
      "metadata": {
        "id": "pq-nTLL_p4sc"
      },
      "id": "pq-nTLL_p4sc"
    }
  ],
  "metadata": {
    "colab": {
      "provenance": []
    },
    "language_info": {
      "name": "python"
    },
    "kernelspec": {
      "name": "python3",
      "display_name": "Python 3"
    }
  },
  "nbformat": 4,
  "nbformat_minor": 5
}