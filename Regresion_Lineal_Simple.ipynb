{
  "cells": [
    {
      "cell_type": "markdown",
      "id": "8a76146f",
      "metadata": {
        "id": "8a76146f"
      },
      "source": [
        "# Regresión Lineal Simple - Predicción de ImpactPlayerScore en CS:GO\n",
        "Este notebook sigue la metodología CRISP-DM hasta la fase 4 para evaluar el modelo de regresión: **Regresión Lineal Simple**."
      ]
    },
    {
      "cell_type": "code",
      "execution_count": 1,
      "id": "78902418",
      "metadata": {
        "id": "78902418"
      },
      "outputs": [],
      "source": [
        "# Cargar librerías\n",
        "import pandas as pd\n",
        "import numpy as np\n",
        "import seaborn as sns\n",
        "import matplotlib.pyplot as plt\n",
        "from google.colab import files"
      ]
    },
    {
      "cell_type": "code",
      "execution_count": 2,
      "id": "2f7b8137",
      "metadata": {
        "id": "2f7b8137",
        "colab": {
          "base_uri": "https://localhost:8080/"
        },
        "outputId": "4c81e635-e40d-45e2-9142-0a704ca3c948"
      },
      "outputs": [
        {
          "output_type": "stream",
          "name": "stderr",
          "text": [
            "<ipython-input-2-a661481f7ff5>:4: DtypeWarning: Columns (6,7) have mixed types. Specify dtype option on import or set low_memory=False.\n",
            "  df = pd.read_csv(url, sep=';')\n"
          ]
        }
      ],
      "source": [
        "#Cargar datos y crear variables\n",
        "\n",
        "url = \"https://raw.githubusercontent.com/Seba-RiveraC/Crisp_DM_CSGO/refs/heads/master/Anexo%20ET_demo_round_traces_2022%20(1).csv\"\n",
        "df = pd.read_csv(url, sep=';')\n",
        "# Crear variables necesarias\n",
        "df['ImpactPlayerScore'] = df['RoundKills'] + 0.5 * df['RoundAssists'] + df['RoundHeadshots']\n",
        "df['KAST'] = ((df['RoundKills'] > 0) | (df['RoundAssists'] > 0)).astype(int)\n",
        "df = df.sample(frac=0.7, random_state=42)"
      ]
    },
    {
      "cell_type": "code",
      "execution_count": 3,
      "id": "984177b1",
      "metadata": {
        "id": "984177b1",
        "colab": {
          "base_uri": "https://localhost:8080/"
        },
        "outputId": "c7a8b06c-e98a-482c-af4e-c95ea8f1513b"
      },
      "outputs": [
        {
          "output_type": "stream",
          "name": "stderr",
          "text": [
            "<ipython-input-3-6e3455b4a4bb>:3: FutureWarning: DataFrame.applymap has been deprecated. Use DataFrame.map instead.\n",
            "  df_model = df_model.applymap(lambda x: str(x) if isinstance(x, str) or isinstance(x, bool) else x)\n",
            "<ipython-input-3-6e3455b4a4bb>:4: FutureWarning: Downcasting behavior in `replace` is deprecated and will be removed in a future version. To retain the old behavior, explicitly call `result.infer_objects(copy=False)`. To opt-in to the future behavior, set `pd.set_option('future.no_silent_downcasting', True)`\n",
            "  df_model = df_model.replace({'True': True, 'False': False, 'TRUE': True, 'FALSE': False})\n"
          ]
        }
      ],
      "source": [
        "# Fase 3 - Preparación de datos y limpieza\n",
        "df_model = df.copy()\n",
        "df_model = df_model.applymap(lambda x: str(x) if isinstance(x, str) or isinstance(x, bool) else x)\n",
        "df_model = df_model.replace({'True': True, 'False': False, 'TRUE': True, 'FALSE': False})\n",
        "for col in df_model.columns:\n",
        "    if df_model[col].dtype == bool:\n",
        "        df_model[col] = df_model[col].astype(int)\n",
        "categorical_cols = df_model.select_dtypes(include='object').columns.tolist()\n",
        "df_model = pd.get_dummies(df_model, columns=categorical_cols, drop_first=True)"
      ]
    },
    {
      "cell_type": "code",
      "execution_count": 4,
      "id": "7b7306e9",
      "metadata": {
        "id": "7b7306e9",
        "colab": {
          "base_uri": "https://localhost:8080/"
        },
        "outputId": "2f07ceb7-22d5-4253-9d91-f0575963ad74"
      },
      "outputs": [
        {
          "output_type": "stream",
          "name": "stdout",
          "text": [
            "MAE: 0.49227637148906717\n",
            "MSE: 0.8548414067900398\n",
            "RMSE: 0.9245763390818736\n",
            "R²: 0.535770903964961\n"
          ]
        }
      ],
      "source": [
        "# Fase 4 - Selección y evaluación del modelo de regresión\n",
        "import pandas as pd\n",
        "from sklearn.model_selection import train_test_split\n",
        "from sklearn.linear_model import LinearRegression\n",
        "from sklearn.metrics import mean_absolute_error, mean_squared_error, r2_score\n",
        "import numpy as np\n",
        "\n",
        "# Limpieza de datos\n",
        "df_model = df.copy()\n",
        "df_model = df_model.dropna()\n",
        "\n",
        "# Variables\n",
        "X = df_model[['KAST']]  # Solo una variable predictora\n",
        "y = df_model['ImpactPlayerScore']\n",
        "\n",
        "# División de datos\n",
        "X_train, X_test, y_train, y_test = train_test_split(X, y, random_state=42)\n",
        "\n",
        "# Modelo\n",
        "modelo = LinearRegression()\n",
        "modelo.fit(X_train, y_train)\n",
        "\n",
        "# Evaluación\n",
        "y_pred = modelo.predict(X_test)\n",
        "print(\"MAE:\", mean_absolute_error(y_test, y_pred))\n",
        "print(\"MSE:\", mean_squared_error(y_test, y_pred))\n",
        "print(\"RMSE:\", np.sqrt(mean_squared_error(y_test, y_pred)))\n",
        "print(\"R²:\", r2_score(y_test, y_pred))\n"
      ]
    }
  ],
  "metadata": {
    "colab": {
      "provenance": []
    },
    "language_info": {
      "name": "python"
    },
    "kernelspec": {
      "name": "python3",
      "display_name": "Python 3"
    }
  },
  "nbformat": 4,
  "nbformat_minor": 5
}