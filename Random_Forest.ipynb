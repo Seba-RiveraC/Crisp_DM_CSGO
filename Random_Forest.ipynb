{
  "cells": [
    {
      "cell_type": "markdown",
      "id": "d7f9a133",
      "metadata": {
        "id": "d7f9a133"
      },
      "source": [
        "# Random Forest - Predicción de ImpactPlayerScore en CS:GO\n",
        "Este notebook sigue la metodología CRISP-DM hasta la fase 4 para evaluar el modelo de regresión: **Random Forest**."
      ]
    },
    {
      "cell_type": "code",
      "execution_count": 1,
      "id": "f8b157e7",
      "metadata": {
        "id": "f8b157e7"
      },
      "outputs": [],
      "source": [
        "# Cargar librerías\n",
        "import pandas as pd\n",
        "import numpy as np\n",
        "import seaborn as sns\n",
        "import matplotlib.pyplot as plt\n",
        "from google.colab import files"
      ]
    },
    {
      "cell_type": "code",
      "execution_count": 2,
      "id": "499e146b",
      "metadata": {
        "id": "499e146b",
        "colab": {
          "base_uri": "https://localhost:8080/"
        },
        "outputId": "35d6e15e-4e55-44b8-d6f4-74a51208737b"
      },
      "outputs": [
        {
          "output_type": "stream",
          "name": "stderr",
          "text": [
            "<ipython-input-2-2c022bf797be>:4: DtypeWarning: Columns (6,7) have mixed types. Specify dtype option on import or set low_memory=False.\n",
            "  df = pd.read_csv(url, sep=';')\n"
          ]
        }
      ],
      "source": [
        "#Cargar datos y crear variables\n",
        "\n",
        "url = \"https://raw.githubusercontent.com/Seba-RiveraC/Crisp_DM_CSGO/refs/heads/master/Anexo%20ET_demo_round_traces_2022%20(1).csv\"\n",
        "df = pd.read_csv(url, sep=';')\n",
        "# Crear variables necesarias\n",
        "df['ImpactPlayerScore'] = df['RoundKills'] + 0.5 * df['RoundAssists'] + df['RoundHeadshots']\n",
        "df['KAST'] = ((df['RoundKills'] > 0) | (df['RoundAssists'] > 0)).astype(int)\n",
        "#para propositos de que no se rompa el collab, se usara una parte del dataset\n",
        "df = df.sample(frac=0.45, random_state=42)"
      ]
    },
    {
      "cell_type": "code",
      "execution_count": 3,
      "id": "a24f3db1",
      "metadata": {
        "id": "a24f3db1",
        "colab": {
          "base_uri": "https://localhost:8080/"
        },
        "outputId": "0402549c-3e60-4ccc-bda9-d3f8057a7027"
      },
      "outputs": [
        {
          "output_type": "stream",
          "name": "stderr",
          "text": [
            "<ipython-input-3-6e3455b4a4bb>:3: FutureWarning: DataFrame.applymap has been deprecated. Use DataFrame.map instead.\n",
            "  df_model = df_model.applymap(lambda x: str(x) if isinstance(x, str) or isinstance(x, bool) else x)\n",
            "<ipython-input-3-6e3455b4a4bb>:4: FutureWarning: Downcasting behavior in `replace` is deprecated and will be removed in a future version. To retain the old behavior, explicitly call `result.infer_objects(copy=False)`. To opt-in to the future behavior, set `pd.set_option('future.no_silent_downcasting', True)`\n",
            "  df_model = df_model.replace({'True': True, 'False': False, 'TRUE': True, 'FALSE': False})\n"
          ]
        }
      ],
      "source": [
        "# Fase 3 - Preparación de datos y limpieza\n",
        "df_model = df.copy()\n",
        "df_model = df_model.applymap(lambda x: str(x) if isinstance(x, str) or isinstance(x, bool) else x)\n",
        "df_model = df_model.replace({'True': True, 'False': False, 'TRUE': True, 'FALSE': False})\n",
        "for col in df_model.columns:\n",
        "    if df_model[col].dtype == bool:\n",
        "        df_model[col] = df_model[col].astype(int)\n",
        "categorical_cols = df_model.select_dtypes(include='object').columns.tolist()\n",
        "df_model = pd.get_dummies(df_model, columns=categorical_cols, drop_first=True)"
      ]
    },
    {
      "cell_type": "code",
      "execution_count": 4,
      "id": "43543823",
      "metadata": {
        "id": "43543823",
        "colab": {
          "base_uri": "https://localhost:8080/",
          "height": 502
        },
        "outputId": "6eccb6e7-0d34-4874-9db4-30cb518d4a82"
      },
      "outputs": [
        {
          "output_type": "stream",
          "name": "stdout",
          "text": [
            "\n",
            "Modelo: Random Forest\n",
            "MAE: 0.55945486189086\n",
            "RMSE: 1.0019903908877543\n",
            "R²: 0.46924957394879363\n"
          ]
        },
        {
          "output_type": "display_data",
          "data": {
            "text/plain": [
              "<Figure size 800x400 with 1 Axes>"
            ],
            "image/png": "[encoded data removed]"
          },
          "metadata": {}
        }
      ],
      "source": [
        "import pandas as pd\n",
        "from sklearn.model_selection import train_test_split\n",
        "from sklearn.ensemble import RandomForestRegressor\n",
        "from sklearn.metrics import mean_absolute_error, mean_squared_error, r2_score\n",
        "import numpy as np\n",
        "import matplotlib.pyplot as plt\n",
        "\n",
        "# Cargar datos\n",
        "# Copia para trabajar\n",
        "df_model = df.copy()\n",
        "\n",
        "# Función para convertir strings con formato europeo a float\n",
        "def convertir_a_float(valor):\n",
        "    if isinstance(valor, str):\n",
        "        valor = valor.replace('.', '').replace(',', '.')\n",
        "        try:\n",
        "            return float(valor)\n",
        "        except:\n",
        "            return np.nan\n",
        "    return valor\n",
        "\n",
        "# Aplicar limpieza\n",
        "columnas = ['TimeAlive', 'TravelledDistance', 'KAST', 'ImpactPlayerScore']\n",
        "for col in columnas:\n",
        "    df_model[col] = df_model[col].apply(convertir_a_float)\n",
        "\n",
        "# Eliminar nulos\n",
        "df_model = df_model.dropna(subset=columnas)\n",
        "\n",
        "# Variables\n",
        "X = df_model[['KAST', 'TimeAlive', 'TravelledDistance']]\n",
        "y = df_model['ImpactPlayerScore']\n",
        "\n",
        "# División\n",
        "X_train, X_test, y_train, y_test = train_test_split(X, y, random_state=42)\n",
        "\n",
        "# Modelo Random Forest\n",
        "modelo = RandomForestRegressor(random_state=42, n_estimators=100)\n",
        "modelo.fit(X_train, y_train)\n",
        "y_pred = modelo.predict(X_test)\n",
        "\n",
        "# Evaluación\n",
        "print(\"\\nModelo: Random Forest\")\n",
        "print(\"MAE:\", mean_absolute_error(y_test, y_pred))\n",
        "print(\"RMSE:\", np.sqrt(mean_squared_error(y_test, y_pred)))\n",
        "print(\"R²:\", r2_score(y_test, y_pred))\n",
        "\n",
        "# Importancia de variables\n",
        "importancia = modelo.feature_importances_\n",
        "variables = X.columns\n",
        "\n",
        "plt.figure(figsize=(8, 4))\n",
        "plt.barh(variables, importancia)\n",
        "plt.xlabel(\"Importancia\")\n",
        "plt.title(\"Importancia de Variables - Random Forest\")\n",
        "plt.show()\n",
        "\n"
      ]
    },
    {
      "cell_type": "markdown",
      "source": [
        "## Analisis\n",
        "Al reducir la muestra y mostrar los valores dependiendo de la importancia para la determinacion de los parametros del modelo se puede observar que el modelo hace su funcion de prediccion bastante bien, esto se ve reflejado por medio de que usando solo 3 variables se alcanzan valores de deduccion bastante altos y de error bastante bajos.\n",
        "En parte concluyendo hemos decidido usar el modelo de regresion de Random Forest para los futuros avances en la puesta en marcha del proyecto para las siguientes entregas"
      ],
      "metadata": {
        "id": "1-PyOXyRSfO2"
      },
      "id": "1-PyOXyRSfO2"
    }
  ],
  "metadata": {
    "colab": {
      "provenance": []
    },
    "language_info": {
      "name": "python"
    },
    "kernelspec": {
      "name": "python3",
      "display_name": "Python 3"
    }
  },
  "nbformat": 4,
  "nbformat_minor": 5
}