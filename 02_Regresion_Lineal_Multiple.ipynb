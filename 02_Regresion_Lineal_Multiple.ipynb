{
  "cells": [
    {
      "cell_type": "markdown",
      "id": "6212c077",
      "metadata": {
        "id": "6212c077"
      },
      "source": [
        "# Regresión Lineal Múltiple - Predicción de ImpactPlayerScore en CS:GO\n",
        "Este notebook sigue la metodología CRISP-DM hasta la fase 4 para evaluar el modelo de regresión: **Regresión Lineal Múltiple**."
      ]
    },
    {
      "cell_type": "code",
      "execution_count": null,
      "id": "6303eea1",
      "metadata": {
        "id": "6303eea1"
      },
      "outputs": [],
      "source": [
        "# Cargar librerías\n",
        "import pandas as pd\n",
        "import numpy as np\n",
        "import seaborn as sns\n",
        "import matplotlib.pyplot as plt\n",
        "from google.colab import files"
      ]
    },
    {
      "cell_type": "code",
      "execution_count": null,
      "id": "025cec4f",
      "metadata": {
        "id": "025cec4f",
        "colab": {
          "base_uri": "https://localhost:8080/"
        },
        "outputId": "d93601d6-7869-44cc-e4c9-48a2a047db38"
      },
      "outputs": [
        {
          "output_type": "stream",
          "name": "stderr",
          "text": [
            "<ipython-input-2-a4c111c9edd0>:4: DtypeWarning: Columns (6,7) have mixed types. Specify dtype option on import or set low_memory=False.\n",
            "  df = pd.read_csv(url, sep=';')\n"
          ]
        }
      ],
      "source": [
        "#Cargar datos y crear variables\n",
        "\n",
        "url = \"https://raw.githubusercontent.com/Seba-RiveraC/Crisp_DM_CSGO/refs/heads/master/Anexo%20ET_demo_round_traces_2022%20(1).csv\"\n",
        "df = pd.read_csv(url, sep=';')\n",
        "# Crear variables necesarias\n",
        "df['ImpactPlayerScore'] = df['RoundKills'] + 0.5 * df['RoundAssists'] + df['RoundHeadshots']\n",
        "df['KAST'] = ((df['RoundKills'] > 0) | (df['RoundAssists'] > 0)).astype(int)\n",
        "#para propositos de que no se rompa el collab, se usara una parte del dataset\n",
        "df = df.sample(frac=0.5, random_state=42)"
      ]
    },
    {
      "cell_type": "code",
      "execution_count": null,
      "id": "90ac331d",
      "metadata": {
        "id": "90ac331d",
        "colab": {
          "base_uri": "https://localhost:8080/"
        },
        "outputId": "d11c49ad-e31b-46c3-f5f0-400ffd9bab22"
      },
      "outputs": [
        {
          "output_type": "stream",
          "name": "stderr",
          "text": [
            "<ipython-input-3-63ef81831ef8>:3: FutureWarning: DataFrame.applymap has been deprecated. Use DataFrame.map instead.\n",
            "  df_model = df_model.applymap(lambda x: str(x) if isinstance(x, str) or isinstance(x, bool) else x)\n",
            "<ipython-input-3-63ef81831ef8>:4: FutureWarning: Downcasting behavior in `replace` is deprecated and will be removed in a future version. To retain the old behavior, explicitly call `result.infer_objects(copy=False)`. To opt-in to the future behavior, set `pd.set_option('future.no_silent_downcasting', True)`\n",
            "  df_model = df_model.replace({'True': True, 'False': False, 'TRUE': True, 'FALSE': False})\n"
          ]
        }
      ],
      "source": [
        "# Fase 3 - Preparación de datos y limpieza\n",
        "df_model = df.copy()\n",
        "df_model = df_model.applymap(lambda x: str(x) if isinstance(x, str) or isinstance(x, bool) else x)\n",
        "df_model = df_model.replace({'True': True, 'False': False, 'TRUE': True, 'FALSE': False})\n",
        "for col in df_model.columns:\n",
        "    if df_model[col].dtype == bool:\n",
        "        df_model[col] = df_model[col].astype(int)\n",
        "categorical_cols = df_model.select_dtypes(include='object').columns.tolist()\n",
        "df_model = pd.get_dummies(df_model, columns=categorical_cols, drop_first=True)\n",
        "\n"
      ]
    },
    {
      "cell_type": "code",
      "execution_count": null,
      "id": "391022f1",
      "metadata": {
        "id": "391022f1",
        "colab": {
          "base_uri": "https://localhost:8080/"
        },
        "outputId": "d94d594a-8d06-4c26-991b-586799fad5a5"
      },
      "outputs": [
        {
          "output_type": "stream",
          "name": "stdout",
          "text": [
            "\n",
            "Modelo: Regresión Lineal Múltiple (con escalado)\n",
            "MAE: 0.49498045000085056\n",
            "MSE: 0.8435163666442211\n",
            "RMSE: 0.9184314708481092\n",
            "R²: 0.5383292801095629\n"
          ]
        }
      ],
      "source": [
        "# Fase 4 - Regresión Lineal Múltiple\n",
        "import pandas as pd\n",
        "import numpy as np\n",
        "from sklearn.model_selection import train_test_split\n",
        "from sklearn.linear_model import LinearRegression\n",
        "from sklearn.preprocessing import StandardScaler\n",
        "from sklearn.metrics import mean_absolute_error, mean_squared_error, r2_score\n",
        "\n",
        "# Cargar y copiar datos\n",
        "df_model = df.copy()\n",
        "\n",
        "def convertir_a_float(valor):\n",
        "    if isinstance(valor, str):\n",
        "        valor = valor.replace('.', '').replace(',', '.')\n",
        "        try:\n",
        "            return float(valor)\n",
        "        except:\n",
        "            return np.nan\n",
        "    return valor\n",
        "\n",
        "# Columnas a limpiar\n",
        "columnas = ['TimeAlive', 'TravelledDistance', 'KAST', 'ImpactPlayerScore']\n",
        "for col in columnas:\n",
        "    df_model[col] = df_model[col].apply(convertir_a_float)\n",
        "\n",
        "# Eliminar nulos\n",
        "df_model.dropna(subset=columnas, inplace=True)\n",
        "\n",
        "# Variables predictoras y objetivo\n",
        "X = df_model[['KAST', 'TimeAlive', 'TravelledDistance']]\n",
        "y = df_model['ImpactPlayerScore']\n",
        "\n",
        "# División de datos\n",
        "X_train, X_test, y_train, y_test = train_test_split(X, y, random_state=42)\n",
        "\n",
        "# Escalar datos\n",
        "scaler = StandardScaler()\n",
        "X_train_scaled = scaler.fit_transform(X_train)\n",
        "X_test_scaled = scaler.transform(X_test)\n",
        "\n",
        "# Modelo de Regresión Lineal\n",
        "modelo_lr = LinearRegression()\n",
        "modelo_lr.fit(X_train_scaled, y_train)\n",
        "y_pred_lr = modelo_lr.predict(X_test_scaled)\n",
        "\n",
        "# Evaluación\n",
        "print(\"\\nModelo: Regresión Lineal Múltiple (con escalado)\")\n",
        "print(\"MAE:\", mean_absolute_error(y_test, y_pred_lr))\n",
        "print(\"MSE:\", mean_squared_error(y_test, y_pred_lr))\n",
        "print(\"RMSE:\", np.sqrt(mean_squared_error(y_test, y_pred_lr)))\n",
        "print(\"R²:\", r2_score(y_test, y_pred_lr))\n",
        "\n"
      ]
    }
  ],
  "metadata": {
    "colab": {
      "provenance": []
    },
    "language_info": {
      "name": "python"
    },
    "kernelspec": {
      "name": "python3",
      "display_name": "Python 3"
    }
  },
  "nbformat": 4,
  "nbformat_minor": 5
}